{
 "cells": [
  {
   "cell_type": "markdown",
   "metadata": {},
   "source": [
    "### Data Loading"
   ]
  },
  {
   "cell_type": "markdown",
   "metadata": {},
   "source": [
    "We load a file, which maps chemicals to their SMILES representations"
   ]
  },
  {
   "cell_type": "code",
   "execution_count": 1,
   "metadata": {
    "scrolled": true
   },
   "outputs": [
    {
     "data": {
      "text/html": [
       "<div>\n",
       "<style scoped>\n",
       "    .dataframe tbody tr th:only-of-type {\n",
       "        vertical-align: middle;\n",
       "    }\n",
       "\n",
       "    .dataframe tbody tr th {\n",
       "        vertical-align: top;\n",
       "    }\n",
       "\n",
       "    .dataframe thead th {\n",
       "        text-align: right;\n",
       "    }\n",
       "</style>\n",
       "<table border=\"1\" class=\"dataframe\">\n",
       "  <thead>\n",
       "    <tr style=\"text-align: right;\">\n",
       "      <th></th>\n",
       "      <th>Index</th>\n",
       "      <th>ZINCID</th>\n",
       "      <th>InChIKey</th>\n",
       "      <th>SMILES</th>\n",
       "    </tr>\n",
       "  </thead>\n",
       "  <tbody>\n",
       "    <tr>\n",
       "      <th>0</th>\n",
       "      <td>1</td>\n",
       "      <td>ZINC00000010</td>\n",
       "      <td>DFDGRKNOFOJBAJ-LBPRGKRZSA-M</td>\n",
       "      <td>[O-]C(=O)C1=CC(=O)[C@](O1)(C)c1ccccc1</td>\n",
       "    </tr>\n",
       "    <tr>\n",
       "      <th>1</th>\n",
       "      <td>2</td>\n",
       "      <td>ZINC00000023</td>\n",
       "      <td>PAZJSJFMUHDSTF-CQSZACIVSA-O</td>\n",
       "      <td>CC(C)[NH2+]CC(COC1=CC=CC=C1CC=C)O</td>\n",
       "    </tr>\n",
       "    <tr>\n",
       "      <th>2</th>\n",
       "      <td>3</td>\n",
       "      <td>ZINC00000053</td>\n",
       "      <td>BSYNRYMUTXBXSQ-UHFFFAOYSA-M</td>\n",
       "      <td>CC(=O)Oc1ccccc1C(=O)[O-]</td>\n",
       "    </tr>\n",
       "    <tr>\n",
       "      <th>3</th>\n",
       "      <td>4</td>\n",
       "      <td>ZINC00000061</td>\n",
       "      <td>KPYSYYIEGFHWSV-QMMMGPOBSA-N</td>\n",
       "      <td>C1=CC(=CC=C1C(CC(=O)[O-])C[NH3+])Cl</td>\n",
       "    </tr>\n",
       "    <tr>\n",
       "      <th>4</th>\n",
       "      <td>5</td>\n",
       "      <td>ZINC00000071</td>\n",
       "      <td>RFRXIWQYSOIBDI-UHFFFAOYSA-N</td>\n",
       "      <td>CCC1=C(C2=CC=CC=C2O1)C(=O)C3=CC=C(C=C3)O</td>\n",
       "    </tr>\n",
       "  </tbody>\n",
       "</table>\n",
       "</div>"
      ],
      "text/plain": [
       "   Index        ZINCID                     InChIKey  \\\n",
       "0      1  ZINC00000010  DFDGRKNOFOJBAJ-LBPRGKRZSA-M   \n",
       "1      2  ZINC00000023  PAZJSJFMUHDSTF-CQSZACIVSA-O   \n",
       "2      3  ZINC00000053  BSYNRYMUTXBXSQ-UHFFFAOYSA-M   \n",
       "3      4  ZINC00000061  KPYSYYIEGFHWSV-QMMMGPOBSA-N   \n",
       "4      5  ZINC00000071  RFRXIWQYSOIBDI-UHFFFAOYSA-N   \n",
       "\n",
       "                                     SMILES  \n",
       "0     [O-]C(=O)C1=CC(=O)[C@](O1)(C)c1ccccc1  \n",
       "1         CC(C)[NH2+]CC(COC1=CC=CC=C1CC=C)O  \n",
       "2                  CC(=O)Oc1ccccc1C(=O)[O-]  \n",
       "3       C1=CC(=CC=C1C(CC(=O)[O-])C[NH3+])Cl  \n",
       "4  CCC1=C(C2=CC=CC=C2O1)C(=O)C3=CC=C(C=C3)O  "
      ]
     },
     "execution_count": 1,
     "metadata": {},
     "output_type": "execute_result"
    }
   ],
   "source": [
    "import pandas as pd\n",
    "import numpy as np\n",
    "tab = pd.read_csv('/data/ZINC/ZINC_chemicals.tsv', delimiter='\\t')\n",
    "tab.head()"
   ]
  },
  {
   "cell_type": "markdown",
   "metadata": {},
   "source": [
    "### SMILES embeddings"
   ]
  },
  {
   "cell_type": "code",
   "execution_count": 2,
   "metadata": {},
   "outputs": [
    {
     "name": "stdout",
     "output_type": "stream",
     "text": [
      "Cleaning 12384 inputs...Done!\n",
      "Training Tf-idf model...Done!\n",
      "Training Glove model...Done!\n"
     ]
    }
   ],
   "source": [
    "from preprocessing import SMILESPreprocessor\n",
    "prep = SMILESPreprocessor(glove_components=50, min_df=4, max_df=1.)\n",
    "processed_smiles = prep.fit(tab['SMILES'], window=6, epochs=100)\n",
    "embedded_smiles = prep.idf_embed(processed_smiles)"
   ]
  },
  {
   "cell_type": "markdown",
   "metadata": {},
   "source": [
    "### Evaluation of the algoritm"
   ]
  },
  {
   "cell_type": "code",
   "execution_count": 3,
   "metadata": {},
   "outputs": [],
   "source": [
    "N_PROTEINS = 3500\n",
    "N_CHEMICALS = 12384"
   ]
  },
  {
   "cell_type": "markdown",
   "metadata": {},
   "source": [
    "#### Varying number of ligands per protein"
   ]
  },
  {
   "cell_type": "markdown",
   "metadata": {},
   "source": [
    "The calculations below are costly. One epoch takes approximately 40 seconds. We perform 10 experiments with 10-fold cross validation each and training the model for 6 epochs each time. It adds up to over 6 hours."
   ]
  },
  {
   "cell_type": "code",
   "execution_count": 4,
   "metadata": {},
   "outputs": [],
   "source": [
    "from remap_utils import evaluate_dir, postprocess_results"
   ]
  },
  {
   "cell_type": "code",
   "execution_count": 5,
   "metadata": {
    "scrolled": true
   },
   "outputs": [
    {
     "name": "stdout",
     "output_type": "stream",
     "text": [
      "Experiment: N3upL1to5\n",
      "fold_0\n",
      "fold_1\n",
      "fold_2\n",
      "fold_3\n",
      "fold_4\n",
      "fold_5\n",
      "fold_6\n",
      "fold_7\n",
      "fold_8\n",
      "fold_9\n",
      "Experiment: N3upL16to20\n",
      "fold_0\n",
      "fold_1\n",
      "fold_2\n",
      "fold_3\n",
      "fold_4\n",
      "fold_5\n",
      "fold_6\n",
      "fold_7\n",
      "fold_8\n",
      "fold_9\n",
      "Experiment: N2L11to15\n",
      "fold_0\n",
      "fold_1\n",
      "fold_2\n",
      "fold_3\n",
      "fold_4\n",
      "fold_5\n",
      "fold_6\n",
      "fold_7\n",
      "fold_8\n",
      "fold_9\n",
      "Experiment: N2L1to5\n",
      "fold_0\n",
      "fold_1\n",
      "fold_2\n",
      "fold_3\n",
      "fold_4\n",
      "fold_5\n",
      "fold_6\n",
      "fold_7\n",
      "fold_8\n",
      "fold_9\n",
      "Experiment: N3upL11to15\n",
      "fold_0\n",
      "fold_1\n",
      "fold_2\n",
      "fold_3\n",
      "fold_4\n",
      "fold_5\n",
      "fold_6\n",
      "fold_7\n",
      "fold_8\n",
      "fold_9\n",
      "Experiment: N2L16to20\n",
      "fold_0\n",
      "fold_1\n",
      "fold_2\n",
      "fold_3\n",
      "fold_4\n",
      "fold_5\n",
      "fold_6\n",
      "fold_7\n",
      "fold_8\n",
      "fold_9\n",
      "Experiment: N3upL6to10\n",
      "fold_0\n",
      "fold_1\n",
      "fold_2\n",
      "fold_3\n",
      "fold_4\n",
      "fold_5\n",
      "fold_6\n",
      "fold_7\n",
      "fold_8\n",
      "fold_9\n",
      "Experiment: N2L21more\n",
      "fold_0\n",
      "fold_1\n",
      "fold_2\n",
      "fold_3\n",
      "fold_4\n",
      "fold_5\n",
      "fold_6\n",
      "fold_7\n",
      "fold_8\n",
      "fold_9\n",
      "Experiment: N3upL21more\n",
      "fold_0\n",
      "fold_1\n",
      "fold_2\n",
      "fold_3\n",
      "fold_4\n",
      "fold_5\n",
      "fold_6\n",
      "fold_7\n",
      "fold_8\n",
      "fold_9\n",
      "Experiment: N2L6to10\n",
      "fold_0\n",
      "fold_1\n",
      "fold_2\n",
      "fold_3\n",
      "fold_4\n",
      "fold_5\n",
      "fold_6\n",
      "fold_7\n",
      "fold_8\n",
      "fold_9\n"
     ]
    }
   ],
   "source": [
    "ntnl_results = evaluate_dir(\n",
    "    directory='/data/ZINC/NTNL_data/', users_embedding=embedded_smiles, n_items=N_PROTEINS,\n",
    "    epochs=10, m=35, folds=10)"
   ]
  },
  {
   "cell_type": "code",
   "execution_count": 6,
   "metadata": {},
   "outputs": [
    {
     "data": {
      "text/html": [
       "<div>\n",
       "<style scoped>\n",
       "    .dataframe tbody tr th:only-of-type {\n",
       "        vertical-align: middle;\n",
       "    }\n",
       "\n",
       "    .dataframe tbody tr th {\n",
       "        vertical-align: top;\n",
       "    }\n",
       "\n",
       "    .dataframe thead th {\n",
       "        text-align: right;\n",
       "    }\n",
       "</style>\n",
       "<table border=\"1\" class=\"dataframe\">\n",
       "  <thead>\n",
       "    <tr style=\"text-align: right;\">\n",
       "      <th></th>\n",
       "      <th>TPR_mean</th>\n",
       "      <th>TPR_sem</th>\n",
       "      <th>known_targets</th>\n",
       "      <th>number of ligands per protein</th>\n",
       "    </tr>\n",
       "  </thead>\n",
       "  <tbody>\n",
       "    <tr>\n",
       "      <th>0</th>\n",
       "      <td>0.876144</td>\n",
       "      <td>0.037894</td>\n",
       "      <td>N2</td>\n",
       "      <td>L6to10</td>\n",
       "    </tr>\n",
       "    <tr>\n",
       "      <th>1</th>\n",
       "      <td>0.893205</td>\n",
       "      <td>0.018883</td>\n",
       "      <td>N3up</td>\n",
       "      <td>L16to20</td>\n",
       "    </tr>\n",
       "    <tr>\n",
       "      <th>2</th>\n",
       "      <td>0.839791</td>\n",
       "      <td>0.019140</td>\n",
       "      <td>N3up</td>\n",
       "      <td>L6to10</td>\n",
       "    </tr>\n",
       "    <tr>\n",
       "      <th>3</th>\n",
       "      <td>0.937895</td>\n",
       "      <td>0.016915</td>\n",
       "      <td>N2</td>\n",
       "      <td>L11to15</td>\n",
       "    </tr>\n",
       "    <tr>\n",
       "      <th>4</th>\n",
       "      <td>0.550745</td>\n",
       "      <td>0.021721</td>\n",
       "      <td>N3up</td>\n",
       "      <td>L1to5</td>\n",
       "    </tr>\n",
       "    <tr>\n",
       "      <th>5</th>\n",
       "      <td>0.952189</td>\n",
       "      <td>0.007368</td>\n",
       "      <td>N2</td>\n",
       "      <td>L21more</td>\n",
       "    </tr>\n",
       "    <tr>\n",
       "      <th>6</th>\n",
       "      <td>0.879040</td>\n",
       "      <td>0.019892</td>\n",
       "      <td>N3up</td>\n",
       "      <td>L11to15</td>\n",
       "    </tr>\n",
       "    <tr>\n",
       "      <th>7</th>\n",
       "      <td>0.535375</td>\n",
       "      <td>0.041517</td>\n",
       "      <td>N2</td>\n",
       "      <td>L1to5</td>\n",
       "    </tr>\n",
       "    <tr>\n",
       "      <th>8</th>\n",
       "      <td>0.881905</td>\n",
       "      <td>0.042543</td>\n",
       "      <td>N2</td>\n",
       "      <td>L16to20</td>\n",
       "    </tr>\n",
       "    <tr>\n",
       "      <th>9</th>\n",
       "      <td>0.933472</td>\n",
       "      <td>0.007090</td>\n",
       "      <td>N3up</td>\n",
       "      <td>L21more</td>\n",
       "    </tr>\n",
       "  </tbody>\n",
       "</table>\n",
       "</div>"
      ],
      "text/plain": [
       "   TPR_mean   TPR_sem known_targets number of ligands per protein\n",
       "0  0.876144  0.037894            N2                        L6to10\n",
       "1  0.893205  0.018883          N3up                       L16to20\n",
       "2  0.839791  0.019140          N3up                        L6to10\n",
       "3  0.937895  0.016915            N2                       L11to15\n",
       "4  0.550745  0.021721          N3up                         L1to5\n",
       "5  0.952189  0.007368            N2                       L21more\n",
       "6  0.879040  0.019892          N3up                       L11to15\n",
       "7  0.535375  0.041517            N2                         L1to5\n",
       "8  0.881905  0.042543            N2                       L16to20\n",
       "9  0.933472  0.007090          N3up                       L21more"
      ]
     },
     "execution_count": 6,
     "metadata": {},
     "output_type": "execute_result"
    }
   ],
   "source": [
    "postprocess_results(ntnl_results, 'number of ligands per protein')"
   ]
  },
  {
   "cell_type": "markdown",
   "metadata": {},
   "source": [
    "#### Varying maximal similarity between chemicals"
   ]
  },
  {
   "cell_type": "markdown",
   "metadata": {},
   "source": [
    "The experiment below (10 subsets, 10 folds 10 epochs each) takes approx. 11 hours."
   ]
  },
  {
   "cell_type": "code",
   "execution_count": 5,
   "metadata": {
    "scrolled": true
   },
   "outputs": [
    {
     "name": "stdout",
     "output_type": "stream",
     "text": [
      "Experiment: N2Tc0.6to0.7\n",
      "fold_0\n",
      "fold_1\n",
      "fold_2\n",
      "fold_3\n",
      "fold_4\n",
      "fold_5\n",
      "fold_6\n",
      "fold_7\n",
      "fold_8\n",
      "fold_9\n",
      "Experiment: N2Tc0.8to0.9\n",
      "fold_0\n",
      "fold_1\n",
      "fold_2\n",
      "fold_3\n",
      "fold_4\n",
      "fold_5\n",
      "fold_6\n",
      "fold_7\n",
      "fold_8\n",
      "fold_9\n",
      "Experiment: N3upTc0.8to0.9\n",
      "fold_0\n",
      "fold_1\n",
      "fold_2\n",
      "fold_3\n",
      "fold_4\n",
      "fold_5\n",
      "fold_6\n",
      "fold_7\n",
      "fold_8\n",
      "fold_9\n",
      "Experiment: N2Tc0.7to0.8\n",
      "fold_0\n",
      "fold_1\n",
      "fold_2\n",
      "fold_3\n",
      "fold_4\n",
      "fold_5\n",
      "fold_6\n",
      "fold_7\n",
      "fold_8\n",
      "fold_9\n",
      "Experiment: N3upTc0.9to1\n",
      "fold_0\n",
      "fold_1\n",
      "fold_2\n",
      "fold_3\n",
      "fold_4\n",
      "fold_5\n",
      "fold_6\n",
      "fold_7\n",
      "fold_8\n",
      "fold_9\n",
      "Experiment: N3upTc0.6to0.7\n",
      "fold_0\n",
      "fold_1\n",
      "fold_2\n",
      "fold_3\n",
      "fold_4\n",
      "fold_5\n",
      "fold_6\n",
      "fold_7\n",
      "fold_8\n",
      "fold_9\n",
      "Experiment: N2Tc0.9to1\n",
      "fold_0\n",
      "fold_1\n",
      "fold_2\n",
      "fold_3\n",
      "fold_4\n",
      "fold_5\n",
      "fold_6\n",
      "fold_7\n",
      "fold_8\n",
      "fold_9\n",
      "Experiment: N3upTc0.49to0.6\n",
      "fold_0\n",
      "fold_1\n",
      "fold_2\n",
      "fold_3\n",
      "fold_4\n",
      "fold_5\n",
      "fold_6\n",
      "fold_7\n",
      "fold_8\n",
      "fold_9\n",
      "Experiment: N3upTc0.7to0.8\n",
      "fold_0\n",
      "fold_1\n",
      "fold_2\n",
      "fold_3\n",
      "fold_4\n",
      "fold_5\n",
      "fold_6\n",
      "fold_7\n",
      "fold_8\n",
      "fold_9\n",
      "Experiment: N2Tc0.49to0.6\n",
      "fold_0\n",
      "fold_1\n",
      "fold_2\n",
      "fold_3\n",
      "fold_4\n",
      "fold_5\n",
      "fold_6\n",
      "fold_7\n",
      "fold_8\n",
      "fold_9\n"
     ]
    }
   ],
   "source": [
    "ntmaxtc_results = evaluate_dir(\n",
    "    directory='/data/ZINC/NTMaxTC_data/', users_embedding=embedded_smiles, n_items=N_PROTEINS,\n",
    "    epochs=10, m=35, folds=10)"
   ]
  },
  {
   "cell_type": "code",
   "execution_count": 7,
   "metadata": {},
   "outputs": [
    {
     "data": {
      "text/html": [
       "<div>\n",
       "<style scoped>\n",
       "    .dataframe tbody tr th:only-of-type {\n",
       "        vertical-align: middle;\n",
       "    }\n",
       "\n",
       "    .dataframe tbody tr th {\n",
       "        vertical-align: top;\n",
       "    }\n",
       "\n",
       "    .dataframe thead th {\n",
       "        text-align: right;\n",
       "    }\n",
       "</style>\n",
       "<table border=\"1\" class=\"dataframe\">\n",
       "  <thead>\n",
       "    <tr style=\"text-align: right;\">\n",
       "      <th></th>\n",
       "      <th>TPR_mean</th>\n",
       "      <th>TPR_sem</th>\n",
       "      <th>chemical structural similarity</th>\n",
       "      <th>known_targets</th>\n",
       "    </tr>\n",
       "  </thead>\n",
       "  <tbody>\n",
       "    <tr>\n",
       "      <th>0</th>\n",
       "      <td>0.889787</td>\n",
       "      <td>0.009475</td>\n",
       "      <td>Tc0.6to0.7</td>\n",
       "      <td>N3up</td>\n",
       "    </tr>\n",
       "    <tr>\n",
       "      <th>1</th>\n",
       "      <td>0.877302</td>\n",
       "      <td>0.021216</td>\n",
       "      <td>Tc0.7to0.8</td>\n",
       "      <td>N3up</td>\n",
       "    </tr>\n",
       "    <tr>\n",
       "      <th>2</th>\n",
       "      <td>0.833711</td>\n",
       "      <td>0.060238</td>\n",
       "      <td>Tc0.8to0.9</td>\n",
       "      <td>N3up</td>\n",
       "    </tr>\n",
       "    <tr>\n",
       "      <th>3</th>\n",
       "      <td>0.950000</td>\n",
       "      <td>0.050000</td>\n",
       "      <td>Tc0.9to1</td>\n",
       "      <td>N2</td>\n",
       "    </tr>\n",
       "    <tr>\n",
       "      <th>4</th>\n",
       "      <td>0.927976</td>\n",
       "      <td>0.023970</td>\n",
       "      <td>Tc0.9to1</td>\n",
       "      <td>N3up</td>\n",
       "    </tr>\n",
       "    <tr>\n",
       "      <th>5</th>\n",
       "      <td>0.893020</td>\n",
       "      <td>0.024318</td>\n",
       "      <td>Tc0.49to0.6</td>\n",
       "      <td>N2</td>\n",
       "    </tr>\n",
       "    <tr>\n",
       "      <th>6</th>\n",
       "      <td>0.864442</td>\n",
       "      <td>0.020587</td>\n",
       "      <td>Tc0.49to0.6</td>\n",
       "      <td>N3up</td>\n",
       "    </tr>\n",
       "    <tr>\n",
       "      <th>7</th>\n",
       "      <td>0.893750</td>\n",
       "      <td>0.028028</td>\n",
       "      <td>Tc0.8to0.9</td>\n",
       "      <td>N2</td>\n",
       "    </tr>\n",
       "    <tr>\n",
       "      <th>8</th>\n",
       "      <td>0.907207</td>\n",
       "      <td>0.014033</td>\n",
       "      <td>Tc0.6to0.7</td>\n",
       "      <td>N2</td>\n",
       "    </tr>\n",
       "    <tr>\n",
       "      <th>9</th>\n",
       "      <td>0.900446</td>\n",
       "      <td>0.022203</td>\n",
       "      <td>Tc0.7to0.8</td>\n",
       "      <td>N2</td>\n",
       "    </tr>\n",
       "  </tbody>\n",
       "</table>\n",
       "</div>"
      ],
      "text/plain": [
       "   TPR_mean   TPR_sem chemical structural similarity known_targets\n",
       "0  0.889787  0.009475                     Tc0.6to0.7          N3up\n",
       "1  0.877302  0.021216                     Tc0.7to0.8          N3up\n",
       "2  0.833711  0.060238                     Tc0.8to0.9          N3up\n",
       "3  0.950000  0.050000                       Tc0.9to1            N2\n",
       "4  0.927976  0.023970                       Tc0.9to1          N3up\n",
       "5  0.893020  0.024318                    Tc0.49to0.6            N2\n",
       "6  0.864442  0.020587                    Tc0.49to0.6          N3up\n",
       "7  0.893750  0.028028                     Tc0.8to0.9            N2\n",
       "8  0.907207  0.014033                     Tc0.6to0.7            N2\n",
       "9  0.900446  0.022203                     Tc0.7to0.8            N2"
      ]
     },
     "execution_count": 7,
     "metadata": {},
     "output_type": "execute_result"
    }
   ],
   "source": [
    "postprocess_results(ntmaxtc_results, 'chemical structural similarity')"
   ]
  },
  {
   "cell_type": "markdown",
   "metadata": {},
   "source": [
    "#### ROC"
   ]
  },
  {
   "cell_type": "markdown",
   "metadata": {},
   "source": [
    "Now, we plot the ROC curve averages over 10 fold cross validation"
   ]
  },
  {
   "cell_type": "code",
   "execution_count": 8,
   "metadata": {},
   "outputs": [
    {
     "name": "stdout",
     "output_type": "stream",
     "text": [
      "Experiment: 8_10cv\n",
      "fold_0\n"
     ]
    },
    {
     "name": "stderr",
     "output_type": "stream",
     "text": [
      "/usr/local/lib/python3.5/site-packages/numpy/core/_methods.py:135: RuntimeWarning: Degrees of freedom <= 0 for slice\n",
      "  keepdims=keepdims)\n",
      "/usr/local/lib/python3.5/site-packages/numpy/core/_methods.py:125: RuntimeWarning: invalid value encountered in true_divide\n",
      "  ret, rcount, out=ret, casting='unsafe', subok=False)\n"
     ]
    },
    {
     "name": "stdout",
     "output_type": "stream",
     "text": [
      "Experiment: 5_10cv\n",
      "fold_0\n",
      "Experiment: 9_10cv\n",
      "fold_0\n",
      "Experiment: 6_10cv\n",
      "fold_0\n",
      "Experiment: 1_10cv\n",
      "fold_0\n",
      "Experiment: 7_10cv\n",
      "fold_0\n",
      "Experiment: 10_10cv\n",
      "fold_0\n",
      "Experiment: 3_10cv\n",
      "fold_0\n",
      "Experiment: 4_10cv\n",
      "fold_0\n",
      "Experiment: 2_10cv\n",
      "fold_0\n"
     ]
    }
   ],
   "source": [
    "roc_curve = evaluate_dir(\n",
    "    directory='/data/ZINC/cv/', users_embedding=embedded_smiles,\n",
    "    n_items=N_PROTEINS, epochs=10, m=range(1, 31), folds=1)"
   ]
  },
  {
   "cell_type": "code",
   "execution_count": 9,
   "metadata": {},
   "outputs": [],
   "source": [
    "average_recall = np.mean([experiment['test_recall'].mean for _, experiment in roc_curve.items()], axis=0)"
   ]
  },
  {
   "cell_type": "code",
   "execution_count": 10,
   "metadata": {},
   "outputs": [
    {
     "data": {
      "text/plain": [
       "[<matplotlib.lines.Line2D at 0x7fa6e49eada0>]"
      ]
     },
     "execution_count": 10,
     "metadata": {},
     "output_type": "execute_result"
    },
    {
     "data": {
      "image/png": "[encoded data removed]",
      "text/plain": [
       "<Figure size 864x864 with 1 Axes>"
      ]
     },
     "metadata": {},
     "output_type": "display_data"
    }
   ],
   "source": [
    "%matplotlib inline\n",
    "import matplotlib.pyplot as plt\n",
    "\n",
    "plt.figure(figsize=(12, 12))\n",
    "plt.grid(which='both')\n",
    "plt.plot(list(range(31)), [0] + list(average_recall))"
   ]
  },
  {
   "cell_type": "markdown",
   "metadata": {},
   "source": [
    "### Cosine similarity vs TC coefficient"
   ]
  },
  {
   "cell_type": "code",
   "execution_count": 5,
   "metadata": {},
   "outputs": [],
   "source": [
    "import scipy.io as sio\n",
    "chem_sim = sio.loadmat('/data/ZINC/chem_chem_zinc.mat')['chem_chem_zinc']"
   ]
  },
  {
   "cell_type": "markdown",
   "metadata": {},
   "source": [
    "We will train the model on full data. In order to do that, we choose a random train-test pair from `/data/cv/` directory and merge them to one set of ones"
   ]
  },
  {
   "cell_type": "code",
   "execution_count": 6,
   "metadata": {},
   "outputs": [],
   "source": [
    "from remap_utils import _train_test_pairs, _merge\n",
    "_, train_ones, test_ones =next(_train_test_pairs('/data/ZINC/cv', N_CHEMICALS))\n",
    "all_ones = _merge(train_ones, test_ones)"
   ]
  },
  {
   "cell_type": "markdown",
   "metadata": {},
   "source": [
    "Now, we train the model and predict the scores of interactions for all chemical-protein pairs"
   ]
  },
  {
   "cell_type": "code",
   "execution_count": 7,
   "metadata": {},
   "outputs": [],
   "source": [
    "from models import BlockCoordinateAscent\n",
    "from remap_utils import _transpose_ones\n",
    "\n",
    "transposed_ones = _transpose_ones(all_ones, N_PROTEINS)  # in REMAP users and items are switched\n",
    "model = BlockCoordinateAscent(\n",
    "    transposed_ones, embedded_smiles.copy())\n",
    "model.fit(n_epochs=10)\n",
    "predictions = model.predict().T  # we transpose predictions to go back to original user-item setting"
   ]
  },
  {
   "cell_type": "code",
   "execution_count": 8,
   "metadata": {},
   "outputs": [],
   "source": [
    "NO_PROTEINS_PER_CHEMICAL = 30"
   ]
  },
  {
   "cell_type": "markdown",
   "metadata": {},
   "source": [
    "We take `NO_PROTEINS_PER_CHEMICAL` proteins (specifically, their IDs) with top scores (excluding the ones from the training set - by artificially setting their scores to negative infinity) per chemical as predictions"
   ]
  },
  {
   "cell_type": "code",
   "execution_count": 9,
   "metadata": {},
   "outputs": [],
   "source": [
    "for i, one in enumerate(all_ones):\n",
    "    predictions[i, one] = - np.inf\n",
    "predictions = predictions.argsort()[:, -NO_PROTEINS_PER_CHEMICAL:]"
   ]
  },
  {
   "cell_type": "markdown",
   "metadata": {},
   "source": [
    "Now, we compute the Tanimoto and cosine similarities of chemicals. We use `np.triu_indices` function to get values only above the diagonal as the matrices are symmetrical with 1. on diagonal"
   ]
  },
  {
   "cell_type": "code",
   "execution_count": 10,
   "metadata": {},
   "outputs": [],
   "source": [
    "from sklearn.metrics.pairwise import cosine_similarity\n",
    "\n",
    "above_diagonal = np.triu_indices(N_CHEMICALS, k=1)\n",
    "\n",
    "tc_coef = list(chem_sim[above_diagonal])\n",
    "cos_sim = cosine_similarity(model.v)\n",
    "cos_sim = list(cos_sim[above_diagonal])"
   ]
  },
  {
   "cell_type": "markdown",
   "metadata": {},
   "source": [
    "We want to measure continuity of our model, by checking whether similar chemicals predict similar proteins. To measure it, we compute jaccard similarity of sets of indices of proteins predicted by for all chemicals."
   ]
  },
  {
   "cell_type": "code",
   "execution_count": 11,
   "metadata": {},
   "outputs": [],
   "source": [
    "def one_hot(predictions, n_items):\n",
    "    n_users, n_predictions = predictions.shape\n",
    "    result = np.zeros((n_users, n_items))\n",
    "    result[np.repeat(np.arange(n_users), n_predictions), predictions.flatten()] = 1\n",
    "    return result\n",
    "\n",
    "def jaccard_similarity(predictions, n_items):\n",
    "    one_hot_predictions = one_hot(predictions, n_items)\n",
    "    intersection = np.dot(one_hot_predictions, one_hot_predictions.T)\n",
    "    n_predictions = predictions.shape[1]\n",
    "    jaccard = intersection / (2 * n_predictions - intersection)\n",
    "    return jaccard"
   ]
  },
  {
   "cell_type": "code",
   "execution_count": 12,
   "metadata": {},
   "outputs": [],
   "source": [
    "jac_sim = jaccard_similarity(predictions, N_PROTEINS)\n",
    "jac_sim = list(jac_sim[above_diagonal])"
   ]
  },
  {
   "cell_type": "markdown",
   "metadata": {},
   "source": [
    "We sample pairs to plot to speed up the computations"
   ]
  },
  {
   "cell_type": "code",
   "execution_count": 13,
   "metadata": {},
   "outputs": [],
   "source": [
    "from random import sample\n",
    "SAMPLE_SIZE = 1000000\n",
    "indices = sample(list(range(len(tc_coef))), SAMPLE_SIZE)"
   ]
  },
  {
   "cell_type": "code",
   "execution_count": 14,
   "metadata": {},
   "outputs": [],
   "source": [
    "sampled_tc_coef = [tc_coef[i] for i in indices]\n",
    "sampled_cos_sim = [cos_sim[i] for i in indices]\n",
    "sampled_jac_sim = [jac_sim[i] for i in indices]"
   ]
  },
  {
   "cell_type": "code",
   "execution_count": 25,
   "metadata": {},
   "outputs": [
    {
     "data": {
      "text/plain": [
       "<matplotlib.collections.PathCollection at 0x7fcd9cc02ef0>"
      ]
     },
     "execution_count": 25,
     "metadata": {},
     "output_type": "execute_result"
    },
    {
     "data": {
      "image/png": "[encoded data removed]",
      "text/plain": [
       "<Figure size 1080x1080 with 1 Axes>"
      ]
     },
     "metadata": {},
     "output_type": "display_data"
    }
   ],
   "source": [
    "%matplotlib inline\n",
    "import matplotlib.pyplot as plt\n",
    "\n",
    "plt.figure(figsize=(15, 15))\n",
    "plt.xlabel('Tanimoto coefficient')\n",
    "plt.ylabel('Jaccard similarity of predicted targets')\n",
    "plt.scatter(sampled_tc_coef, sampled_jac_sim, s=15., alpha=0.3)"
   ]
  },
  {
   "cell_type": "code",
   "execution_count": 23,
   "metadata": {},
   "outputs": [
    {
     "data": {
      "text/plain": [
       "<matplotlib.collections.PathCollection at 0x7fcdaa484978>"
      ]
     },
     "execution_count": 23,
     "metadata": {},
     "output_type": "execute_result"
    },
    {
     "data": {
      "image/png": "[encoded data removed]",
      "text/plain": [
       "<Figure size 1080x1080 with 1 Axes>"
      ]
     },
     "metadata": {},
     "output_type": "display_data"
    }
   ],
   "source": [
    "plt.figure(figsize=(15, 15))\n",
    "plt.xlabel('Cosine similarity')\n",
    "plt.ylabel('Jaccard similarity of predicted targets')\n",
    "plt.scatter(sampled_cos_sim, sampled_jac_sim, s=15., alpha=0.3)"
   ]
  },
  {
   "cell_type": "code",
   "execution_count": 24,
   "metadata": {},
   "outputs": [
    {
     "data": {
      "text/plain": [
       "<matplotlib.collections.PathCollection at 0x7fcda69a80f0>"
      ]
     },
     "execution_count": 24,
     "metadata": {},
     "output_type": "execute_result"
    },
    {
     "data": {
      "image/png": "[encoded data removed]",
      "text/plain": [
       "<Figure size 1080x1080 with 1 Axes>"
      ]
     },
     "metadata": {},
     "output_type": "display_data"
    }
   ],
   "source": [
    "plt.figure(figsize=(15, 15))\n",
    "plt.xlabel('Tanimoto coefficient')\n",
    "plt.ylabel('Cosine similarity')\n",
    "plt.scatter(sampled_tc_coef, sampled_cos_sim, s=15., alpha=0.3)"
   ]
  }
 ],
 "metadata": {
  "kernelspec": {
   "display_name": "Python 3",
   "language": "python",
   "name": "python3"
  },
  "language_info": {
   "codemirror_mode": {
    "name": "ipython",
    "version": 3
   },
   "file_extension": ".py",
   "mimetype": "text/x-python",
   "name": "python",
   "nbconvert_exporter": "python",
   "pygments_lexer": "ipython3",
   "version": "3.5.4"
  }
 },
 "nbformat": 4,
 "nbformat_minor": 2
}
